{
 "cells": [
  {
   "cell_type": "code",
   "execution_count": 9,
   "metadata": {},
   "outputs": [],
   "source": [
    "from mpl_toolkits.mplot3d import Axes3D\n",
    "from sklearn.preprocessing import StandardScaler\n",
    "import matplotlib.pyplot as plt # plotting\n",
    "import numpy as np # linear algebra\n",
    "import os # accessing directory structure\n",
    "import pandas as pd # data processing, CSV file I/O (e.g. pd.read_csv)\n",
    "import pdb\n",
    "import gmaps\n",
    "from urllib.request import urlopen\n",
    "import json\n",
    "import requests\n",
    "import difflib\n",
    "import sys\n",
    "import datetime\n",
    "\n",
    "# Google developer API key\n",
    "sys.path.append('../')\n",
    "from config import gkey\n",
    "\n",
    "# Configure gmaps\n",
    "gmaps.configure(api_key=gkey)"
   ]
  },
  {
   "cell_type": "code",
   "execution_count": 11,
   "metadata": {},
   "outputs": [],
   "source": [
    "data_df = pd.read_csv(os.path.join('./DCC_Data/', 'FinalDatasetAirplaneCrashes'))"
   ]
  },
  {
   "cell_type": "code",
   "execution_count": 12,
   "metadata": {},
   "outputs": [],
   "source": [
    "df = data_df[(data_df[\"Fatalities\"] >= 0 ) & (abs(data_df[\"Latitude\"]) >= 0 )]\n",
    "df = df.replace(np.nan, '', regex=True)"
   ]
  },
  {
   "cell_type": "code",
   "execution_count": 13,
   "metadata": {
    "scrolled": true
   },
   "outputs": [],
   "source": [
    "df['Aboard'] = pd.to_numeric(df['Aboard'])\n",
    "df['Fatalities'] = pd.to_numeric(df['Fatalities'])"
   ]
  },
  {
   "cell_type": "code",
   "execution_count": 14,
   "metadata": {
    "scrolled": true
   },
   "outputs": [],
   "source": [
    "df['Percent Survived'] = df.apply(lambda x: 100 if x['Fatalities'] ==0 else x['Fatalities']/x['Aboard']*100, axis =1)\n",
    "df_test =df.iloc[0:5]"
   ]
  },
  {
   "cell_type": "code",
   "execution_count": 15,
   "metadata": {},
   "outputs": [],
   "source": [
    "def nearest(row):#https://stackoverflow.com/questions/20169467/how-to-convert-from-longitude-and-latitude-to-country-or-city\n",
    "    lat=row['Latitude']\n",
    "    lon=row['Longitude']\n",
    "    params = {\n",
    "        \"key\": gkey,\n",
    "        \"radius\": \"50000\",\n",
    "        \"location\" : str(row[\"Latitude\"]) + \",\" + str(row[\"Longitude\"])\n",
    "         }\n",
    "    base_url = \"https://maps.googleapis.com/maps/api/place/nearbysearch/json\"\n",
    "    response = requests.get(base_url, params=params).json()\n",
    "    #pdb.set_trace()  \n",
    "    try:\n",
    "        country = response['results'][0]['vicinity'] \n",
    "    except:\n",
    "        country = ''\n",
    "    #print(requests.get(base_url, params=params).url)\n",
    "    #print(json.dumps(response, indent=4, sort_keys=True))\n",
    "    return(country) "
   ]
  },
  {
   "cell_type": "code",
   "execution_count": 16,
   "metadata": {},
   "outputs": [],
   "source": [
    "def getplace(row):#https://stackoverflow.com/questions/20169467/how-to-convert-from-longitude-and-latitude-to-country-or-city\n",
    "    lat=row['Latitude']\n",
    "    lon=row['Longitude']\n",
    "    params = {\n",
    "        \"key\": gkey,\n",
    "        \"latlng\" : str(row[\"Latitude\"]) + \",\" + str(row[\"Longitude\"])\n",
    "         }\n",
    "    \n",
    "    base_url = \"https://maps.googleapis.com/maps/api/geocode/json?\"\n",
    "    response = requests.get(base_url, params=params).json()  \n",
    "    \n",
    "    try:\n",
    "        components = response['results'][0]['address_components']\n",
    "        country = town = None\n",
    "        for c in components:\n",
    "            if \"country\" in c['types']:\n",
    "                country = c['long_name']\n",
    "    except:\n",
    "        #country = nearest(row)\n",
    "        country = ''\n",
    "    return(country)"
   ]
  },
  {
   "cell_type": "code",
   "execution_count": null,
   "metadata": {},
   "outputs": [],
   "source": [
    "df['Country'] = df.apply(getplace, axis=1)\n",
    "df['Nearest_Vicinity'] = df.apply(nearest, axis=1)\n",
    "df.to_csv(\"df_with_country_and_nearest.csv\")\n",
    "df.head()"
   ]
  },
  {
   "cell_type": "code",
   "execution_count": null,
   "metadata": {},
   "outputs": [],
   "source": [
    "#date = list(df['Date'].values)\n",
    "#operator = list(df[\"Operator\"].values)\n",
    "\n",
    "text_list=[]\n",
    "#Also instead of \\n you must use html's <br/>\n",
    "for index, row in df.iterrows():\n",
    "    text_list.append('Information: <br/>' + \n",
    "                     \"Date: \" + str(row['Date']) + \"<br/>\" + \n",
    "                     \"Time: \" + str(row['Time']) + \"<br/>\" +\n",
    "                     \"Operator: \" + str(row['Operator']) + \"<br/>\" +\n",
    "                     \"Flight #: \" + str(row['Flight #']) + \"<br/>\" +\n",
    "                     \"Route: \" + str(row['Route']) + \"<br/>\" +\n",
    "                     \"AC Type: \" + str(row['AC Type']) + \"<br/>\" +\n",
    "                     \"Registration: \" + str(row['Registration']) + \"<br/>\" +\n",
    "                     \"cn/ln: \" + str(row['cn/ln']) + \"<br/>\" +\n",
    "                     \"Aboard: \" + str(row['Aboard']) + \"<br/>\" +\n",
    "                     \"Aboard Passengers: \" + str(row['Aboard Passengers']) + \"<br/>\" +\n",
    "                     \"Aboard Crew: \" + str(row['Aboard Crew']) + \"<br/>\" +\n",
    "                     \"Fatalities: \" + str(row['Fatalities']) + \"<br/>\" +\n",
    "                     \"Fatalities Passengers: \" + str(row['Fatalities Passengers']) + \"<br/>\" +\n",
    "                     \"Fatalities Crew: \" + str(row['Fatalities Crew']) + \"<br/>\" +\n",
    "                     \"Ground: \" + str(row['Ground']) + \"<br/>\" +\n",
    "                     \"Summary: \" + str(row['Summary']) + \"<br/>\" +\n",
    "                     \"Location: \" + str(row['Location']) + \"<br/>\" +\n",
    "                     \"Latitude: \" + str(row['Latitude']) + \"<br/>\" +\n",
    "                     \"Latitude: \" + str(row['Latitude']) + \"<br/>\" +\n",
    "                     \"geometry: \" + str(row['geometry']) + \"<br/>\"\n",
    "                    )\n"
   ]
  },
  {
   "cell_type": "code",
   "execution_count": null,
   "metadata": {},
   "outputs": [],
   "source": [
    "rating = df[\"Fatalities\"]\n",
    "locations = df[[\"Latitude\", \"Longitude\"]]\n",
    "\n",
    "# Plot Heatmap\n",
    "fig = gmaps.figure()\n",
    "figure_layout = {\n",
    "    'width': '2000px',\n",
    "    'height': '2000px',\n",
    "    'border': '1px solid black',\n",
    "    'padding': '1px'\n",
    "}\n",
    "gmaps.figure(layout=figure_layout)\n",
    "\n",
    "# Create heat layer\n",
    "heat_layer = gmaps.heatmap_layer(locations.dropna()[0:1000], \n",
    "                                 weights=rating.dropna()[0:1000], \n",
    "                                 dissipating=True, \n",
    "                                 max_intensity=df['Fatalities'].max()/2,\n",
    "                                 point_radius=15,\n",
    "                                 opacity=0.95)\n",
    "# Add layer\n",
    "fig.add_layer(heat_layer)\n",
    "#markers = gmaps.marker_layer(locations.dropna()[0:5])\n",
    "#info_box_template = \"\"\n",
    "#plant_info = [info_box_template.format(**plant) for plant in nuclear_power_plants]\n",
    "marker_layer = gmaps.marker_layer(locations.dropna()[0:50],\n",
    "                                  info_box_content=text_list[0:50])\n",
    "# Display figure\n",
    "fig.add_layer(marker_layer)\n",
    "fig"
   ]
  },
  {
   "cell_type": "code",
   "execution_count": null,
   "metadata": {},
   "outputs": [],
   "source": []
  },
  {
   "cell_type": "code",
   "execution_count": null,
   "metadata": {},
   "outputs": [],
   "source": []
  },
  {
   "cell_type": "code",
   "execution_count": 17,
   "metadata": {
    "scrolled": true
   },
   "outputs": [
    {
     "ename": "FileNotFoundError",
     "evalue": "[Errno 2] No such file or directory: './df_with_country_with nearest.csv'",
     "output_type": "error",
     "traceback": [
      "\u001b[0;31m---------------------------------------------------------------------------\u001b[0m",
      "\u001b[0;31mFileNotFoundError\u001b[0m                         Traceback (most recent call last)",
      "\u001b[0;32m<ipython-input-17-abc784917db5>\u001b[0m in \u001b[0;36m<module>\u001b[0;34m\u001b[0m\n\u001b[0;32m----> 1\u001b[0;31m \u001b[0mplanecrash_df\u001b[0m \u001b[0;34m=\u001b[0m \u001b[0mpd\u001b[0m\u001b[0;34m.\u001b[0m\u001b[0mread_csv\u001b[0m\u001b[0;34m(\u001b[0m\u001b[0;34m\"./df_with_country_with nearest.csv\"\u001b[0m\u001b[0;34m)\u001b[0m\u001b[0;34m\u001b[0m\u001b[0;34m\u001b[0m\u001b[0m\n\u001b[0m",
      "\u001b[0;32m~/anaconda3/lib/python3.8/site-packages/pandas/io/parsers.py\u001b[0m in \u001b[0;36mread_csv\u001b[0;34m(filepath_or_buffer, sep, delimiter, header, names, index_col, usecols, squeeze, prefix, mangle_dupe_cols, dtype, engine, converters, true_values, false_values, skipinitialspace, skiprows, skipfooter, nrows, na_values, keep_default_na, na_filter, verbose, skip_blank_lines, parse_dates, infer_datetime_format, keep_date_col, date_parser, dayfirst, cache_dates, iterator, chunksize, compression, thousands, decimal, lineterminator, quotechar, quoting, doublequote, escapechar, comment, encoding, dialect, error_bad_lines, warn_bad_lines, delim_whitespace, low_memory, memory_map, float_precision)\u001b[0m\n\u001b[1;32m    684\u001b[0m     )\n\u001b[1;32m    685\u001b[0m \u001b[0;34m\u001b[0m\u001b[0m\n\u001b[0;32m--> 686\u001b[0;31m     \u001b[0;32mreturn\u001b[0m \u001b[0m_read\u001b[0m\u001b[0;34m(\u001b[0m\u001b[0mfilepath_or_buffer\u001b[0m\u001b[0;34m,\u001b[0m \u001b[0mkwds\u001b[0m\u001b[0;34m)\u001b[0m\u001b[0;34m\u001b[0m\u001b[0;34m\u001b[0m\u001b[0m\n\u001b[0m\u001b[1;32m    687\u001b[0m \u001b[0;34m\u001b[0m\u001b[0m\n\u001b[1;32m    688\u001b[0m \u001b[0;34m\u001b[0m\u001b[0m\n",
      "\u001b[0;32m~/anaconda3/lib/python3.8/site-packages/pandas/io/parsers.py\u001b[0m in \u001b[0;36m_read\u001b[0;34m(filepath_or_buffer, kwds)\u001b[0m\n\u001b[1;32m    450\u001b[0m \u001b[0;34m\u001b[0m\u001b[0m\n\u001b[1;32m    451\u001b[0m     \u001b[0;31m# Create the parser.\u001b[0m\u001b[0;34m\u001b[0m\u001b[0;34m\u001b[0m\u001b[0;34m\u001b[0m\u001b[0m\n\u001b[0;32m--> 452\u001b[0;31m     \u001b[0mparser\u001b[0m \u001b[0;34m=\u001b[0m \u001b[0mTextFileReader\u001b[0m\u001b[0;34m(\u001b[0m\u001b[0mfp_or_buf\u001b[0m\u001b[0;34m,\u001b[0m \u001b[0;34m**\u001b[0m\u001b[0mkwds\u001b[0m\u001b[0;34m)\u001b[0m\u001b[0;34m\u001b[0m\u001b[0;34m\u001b[0m\u001b[0m\n\u001b[0m\u001b[1;32m    453\u001b[0m \u001b[0;34m\u001b[0m\u001b[0m\n\u001b[1;32m    454\u001b[0m     \u001b[0;32mif\u001b[0m \u001b[0mchunksize\u001b[0m \u001b[0;32mor\u001b[0m \u001b[0miterator\u001b[0m\u001b[0;34m:\u001b[0m\u001b[0;34m\u001b[0m\u001b[0;34m\u001b[0m\u001b[0m\n",
      "\u001b[0;32m~/anaconda3/lib/python3.8/site-packages/pandas/io/parsers.py\u001b[0m in \u001b[0;36m__init__\u001b[0;34m(self, f, engine, **kwds)\u001b[0m\n\u001b[1;32m    944\u001b[0m             \u001b[0mself\u001b[0m\u001b[0;34m.\u001b[0m\u001b[0moptions\u001b[0m\u001b[0;34m[\u001b[0m\u001b[0;34m\"has_index_names\"\u001b[0m\u001b[0;34m]\u001b[0m \u001b[0;34m=\u001b[0m \u001b[0mkwds\u001b[0m\u001b[0;34m[\u001b[0m\u001b[0;34m\"has_index_names\"\u001b[0m\u001b[0;34m]\u001b[0m\u001b[0;34m\u001b[0m\u001b[0;34m\u001b[0m\u001b[0m\n\u001b[1;32m    945\u001b[0m \u001b[0;34m\u001b[0m\u001b[0m\n\u001b[0;32m--> 946\u001b[0;31m         \u001b[0mself\u001b[0m\u001b[0;34m.\u001b[0m\u001b[0m_make_engine\u001b[0m\u001b[0;34m(\u001b[0m\u001b[0mself\u001b[0m\u001b[0;34m.\u001b[0m\u001b[0mengine\u001b[0m\u001b[0;34m)\u001b[0m\u001b[0;34m\u001b[0m\u001b[0;34m\u001b[0m\u001b[0m\n\u001b[0m\u001b[1;32m    947\u001b[0m \u001b[0;34m\u001b[0m\u001b[0m\n\u001b[1;32m    948\u001b[0m     \u001b[0;32mdef\u001b[0m \u001b[0mclose\u001b[0m\u001b[0;34m(\u001b[0m\u001b[0mself\u001b[0m\u001b[0;34m)\u001b[0m\u001b[0;34m:\u001b[0m\u001b[0;34m\u001b[0m\u001b[0;34m\u001b[0m\u001b[0m\n",
      "\u001b[0;32m~/anaconda3/lib/python3.8/site-packages/pandas/io/parsers.py\u001b[0m in \u001b[0;36m_make_engine\u001b[0;34m(self, engine)\u001b[0m\n\u001b[1;32m   1176\u001b[0m     \u001b[0;32mdef\u001b[0m \u001b[0m_make_engine\u001b[0m\u001b[0;34m(\u001b[0m\u001b[0mself\u001b[0m\u001b[0;34m,\u001b[0m \u001b[0mengine\u001b[0m\u001b[0;34m=\u001b[0m\u001b[0;34m\"c\"\u001b[0m\u001b[0;34m)\u001b[0m\u001b[0;34m:\u001b[0m\u001b[0;34m\u001b[0m\u001b[0;34m\u001b[0m\u001b[0m\n\u001b[1;32m   1177\u001b[0m         \u001b[0;32mif\u001b[0m \u001b[0mengine\u001b[0m \u001b[0;34m==\u001b[0m \u001b[0;34m\"c\"\u001b[0m\u001b[0;34m:\u001b[0m\u001b[0;34m\u001b[0m\u001b[0;34m\u001b[0m\u001b[0m\n\u001b[0;32m-> 1178\u001b[0;31m             \u001b[0mself\u001b[0m\u001b[0;34m.\u001b[0m\u001b[0m_engine\u001b[0m \u001b[0;34m=\u001b[0m \u001b[0mCParserWrapper\u001b[0m\u001b[0;34m(\u001b[0m\u001b[0mself\u001b[0m\u001b[0;34m.\u001b[0m\u001b[0mf\u001b[0m\u001b[0;34m,\u001b[0m \u001b[0;34m**\u001b[0m\u001b[0mself\u001b[0m\u001b[0;34m.\u001b[0m\u001b[0moptions\u001b[0m\u001b[0;34m)\u001b[0m\u001b[0;34m\u001b[0m\u001b[0;34m\u001b[0m\u001b[0m\n\u001b[0m\u001b[1;32m   1179\u001b[0m         \u001b[0;32melse\u001b[0m\u001b[0;34m:\u001b[0m\u001b[0;34m\u001b[0m\u001b[0;34m\u001b[0m\u001b[0m\n\u001b[1;32m   1180\u001b[0m             \u001b[0;32mif\u001b[0m \u001b[0mengine\u001b[0m \u001b[0;34m==\u001b[0m \u001b[0;34m\"python\"\u001b[0m\u001b[0;34m:\u001b[0m\u001b[0;34m\u001b[0m\u001b[0;34m\u001b[0m\u001b[0m\n",
      "\u001b[0;32m~/anaconda3/lib/python3.8/site-packages/pandas/io/parsers.py\u001b[0m in \u001b[0;36m__init__\u001b[0;34m(self, src, **kwds)\u001b[0m\n\u001b[1;32m   2006\u001b[0m         \u001b[0mkwds\u001b[0m\u001b[0;34m[\u001b[0m\u001b[0;34m\"usecols\"\u001b[0m\u001b[0;34m]\u001b[0m \u001b[0;34m=\u001b[0m \u001b[0mself\u001b[0m\u001b[0;34m.\u001b[0m\u001b[0musecols\u001b[0m\u001b[0;34m\u001b[0m\u001b[0;34m\u001b[0m\u001b[0m\n\u001b[1;32m   2007\u001b[0m \u001b[0;34m\u001b[0m\u001b[0m\n\u001b[0;32m-> 2008\u001b[0;31m         \u001b[0mself\u001b[0m\u001b[0;34m.\u001b[0m\u001b[0m_reader\u001b[0m \u001b[0;34m=\u001b[0m \u001b[0mparsers\u001b[0m\u001b[0;34m.\u001b[0m\u001b[0mTextReader\u001b[0m\u001b[0;34m(\u001b[0m\u001b[0msrc\u001b[0m\u001b[0;34m,\u001b[0m \u001b[0;34m**\u001b[0m\u001b[0mkwds\u001b[0m\u001b[0;34m)\u001b[0m\u001b[0;34m\u001b[0m\u001b[0;34m\u001b[0m\u001b[0m\n\u001b[0m\u001b[1;32m   2009\u001b[0m         \u001b[0mself\u001b[0m\u001b[0;34m.\u001b[0m\u001b[0munnamed_cols\u001b[0m \u001b[0;34m=\u001b[0m \u001b[0mself\u001b[0m\u001b[0;34m.\u001b[0m\u001b[0m_reader\u001b[0m\u001b[0;34m.\u001b[0m\u001b[0munnamed_cols\u001b[0m\u001b[0;34m\u001b[0m\u001b[0;34m\u001b[0m\u001b[0m\n\u001b[1;32m   2010\u001b[0m \u001b[0;34m\u001b[0m\u001b[0m\n",
      "\u001b[0;32mpandas/_libs/parsers.pyx\u001b[0m in \u001b[0;36mpandas._libs.parsers.TextReader.__cinit__\u001b[0;34m()\u001b[0m\n",
      "\u001b[0;32mpandas/_libs/parsers.pyx\u001b[0m in \u001b[0;36mpandas._libs.parsers.TextReader._setup_parser_source\u001b[0;34m()\u001b[0m\n",
      "\u001b[0;31mFileNotFoundError\u001b[0m: [Errno 2] No such file or directory: './df_with_country_with nearest.csv'"
     ]
    }
   ],
   "source": [
    "planecrash_df = pd.read_csv(\"./D\")"
   ]
  },
  {
   "cell_type": "code",
   "execution_count": 371,
   "metadata": {
    "scrolled": true
   },
   "outputs": [
    {
     "data": {
      "text/plain": [
       "Country            object\n",
       "Code               object\n",
       "Year                int64\n",
       "GDP-Growth        float64\n",
       "GDP-Per-Capita    float64\n",
       "GDP               float64\n",
       "dtype: object"
      ]
     },
     "execution_count": 371,
     "metadata": {},
     "output_type": "execute_result"
    }
   ],
   "source": [
    "gdp_df = pd.read_csv(\"./DCC_Data/gdp_data.csv\")\n",
    "#gdp_df['Year'] = gdp_df['Year'].astype('int64')\n",
    "gdp_df.astype({'Year':'int64'}).dtypes"
   ]
  },
  {
   "cell_type": "code",
   "execution_count": 372,
   "metadata": {},
   "outputs": [
    {
     "name": "stdout",
     "output_type": "stream",
     "text": [
      "<class 'pandas.core.frame.DataFrame'>\n",
      "RangeIndex: 15048 entries, 0 to 15047\n",
      "Data columns (total 6 columns):\n",
      " #   Column          Non-Null Count  Dtype  \n",
      "---  ------          --------------  -----  \n",
      " 0   Country         15048 non-null  object \n",
      " 1   Code            15048 non-null  object \n",
      " 2   Year            15048 non-null  int64  \n",
      " 3   GDP-Growth      11539 non-null  float64\n",
      " 4   GDP-Per-Capita  11391 non-null  float64\n",
      " 5   GDP             11394 non-null  float64\n",
      "dtypes: float64(3), int64(1), object(2)\n",
      "memory usage: 705.5+ KB\n"
     ]
    }
   ],
   "source": [
    "#gdp_df['Year'] = gdp_df['Year'].astype(str)\n",
    "gdp_df.info()"
   ]
  },
  {
   "cell_type": "code",
   "execution_count": 373,
   "metadata": {},
   "outputs": [],
   "source": [
    "#planecrash_df['Year'] = planecrash_df.apply(lambda x: float(x['Date'][0:4])     ,axis=1)\n",
    "planecrash_df['Year'] = planecrash_df.apply(lambda x: float(x['Date'][0:4])     ,axis=1)"
   ]
  },
  {
   "cell_type": "code",
   "execution_count": 374,
   "metadata": {
    "scrolled": true
   },
   "outputs": [],
   "source": [
    "#planecrash_df['Date'] = pd.to_datetime(planecrash_df['Date'])\n",
    "#planecrash_df['Year'] = planecrash_df['Date'].dt.strftime('%Y')\n",
    "#planecrash_df['Year'] = planecrash_df['Date'].astype(np.int32)\n",
    "#planecrash_df"
   ]
  },
  {
   "cell_type": "code",
   "execution_count": 358,
   "metadata": {},
   "outputs": [
    {
     "data": {
      "text/plain": [
       "True"
      ]
     },
     "execution_count": 358,
     "metadata": {},
     "output_type": "execute_result"
    }
   ],
   "source": [
    "row['Year'] == 2019"
   ]
  },
  {
   "cell_type": "code",
   "execution_count": 355,
   "metadata": {
    "scrolled": true
   },
   "outputs": [
    {
     "data": {
      "text/plain": [
       "0        False\n",
       "1        False\n",
       "2        False\n",
       "3        False\n",
       "4        False\n",
       "         ...  \n",
       "15043    False\n",
       "15044    False\n",
       "15045    False\n",
       "15046    False\n",
       "15047    False\n",
       "Name: Year, Length: 15048, dtype: bool"
      ]
     },
     "execution_count": 355,
     "metadata": {},
     "output_type": "execute_result"
    }
   ],
   "source": [
    "(gdp_df[\"Year\"]==row['Year'])"
   ]
  },
  {
   "cell_type": "code",
   "execution_count": 331,
   "metadata": {},
   "outputs": [
    {
     "data": {
      "text/html": [
       "<div>\n",
       "<style scoped>\n",
       "    .dataframe tbody tr th:only-of-type {\n",
       "        vertical-align: middle;\n",
       "    }\n",
       "\n",
       "    .dataframe tbody tr th {\n",
       "        vertical-align: top;\n",
       "    }\n",
       "\n",
       "    .dataframe thead th {\n",
       "        text-align: right;\n",
       "    }\n",
       "</style>\n",
       "<table border=\"1\" class=\"dataframe\">\n",
       "  <thead>\n",
       "    <tr style=\"text-align: right;\">\n",
       "      <th></th>\n",
       "      <th>Country</th>\n",
       "      <th>Code</th>\n",
       "      <th>Year</th>\n",
       "      <th>GDP-Growth</th>\n",
       "      <th>GDP-Per-Capita</th>\n",
       "      <th>GDP</th>\n",
       "    </tr>\n",
       "  </thead>\n",
       "  <tbody>\n",
       "    <tr>\n",
       "      <th>14784</th>\n",
       "      <td>Aruba</td>\n",
       "      <td>ABW</td>\n",
       "      <td>2016</td>\n",
       "      <td>NaN</td>\n",
       "      <td>NaN</td>\n",
       "      <td>NaN</td>\n",
       "    </tr>\n",
       "    <tr>\n",
       "      <th>14785</th>\n",
       "      <td>Afghanistan</td>\n",
       "      <td>AFG</td>\n",
       "      <td>2016</td>\n",
       "      <td>1.030660</td>\n",
       "      <td>563.825663</td>\n",
       "      <td>2.095875e+10</td>\n",
       "    </tr>\n",
       "    <tr>\n",
       "      <th>14786</th>\n",
       "      <td>Angola</td>\n",
       "      <td>AGO</td>\n",
       "      <td>2016</td>\n",
       "      <td>-2.133493</td>\n",
       "      <td>3229.619740</td>\n",
       "      <td>9.950382e+10</td>\n",
       "    </tr>\n",
       "    <tr>\n",
       "      <th>14787</th>\n",
       "      <td>Albania</td>\n",
       "      <td>ALB</td>\n",
       "      <td>2016</td>\n",
       "      <td>4.004413</td>\n",
       "      <td>5075.354985</td>\n",
       "      <td>1.454788e+10</td>\n",
       "    </tr>\n",
       "    <tr>\n",
       "      <th>14788</th>\n",
       "      <td>Andorra</td>\n",
       "      <td>AND</td>\n",
       "      <td>2016</td>\n",
       "      <td>1.629345</td>\n",
       "      <td>44569.783009</td>\n",
       "      <td>3.432141e+09</td>\n",
       "    </tr>\n",
       "    <tr>\n",
       "      <th>...</th>\n",
       "      <td>...</td>\n",
       "      <td>...</td>\n",
       "      <td>...</td>\n",
       "      <td>...</td>\n",
       "      <td>...</td>\n",
       "      <td>...</td>\n",
       "    </tr>\n",
       "    <tr>\n",
       "      <th>15043</th>\n",
       "      <td>Kosovo</td>\n",
       "      <td>XKX</td>\n",
       "      <td>2016</td>\n",
       "      <td>4.145372</td>\n",
       "      <td>4193.631327</td>\n",
       "      <td>7.738508e+09</td>\n",
       "    </tr>\n",
       "    <tr>\n",
       "      <th>15044</th>\n",
       "      <td>Yemen, Rep.</td>\n",
       "      <td>YEM</td>\n",
       "      <td>2016</td>\n",
       "      <td>-2.701475</td>\n",
       "      <td>667.945437</td>\n",
       "      <td>1.903557e+10</td>\n",
       "    </tr>\n",
       "    <tr>\n",
       "      <th>15045</th>\n",
       "      <td>South Africa</td>\n",
       "      <td>ZAF</td>\n",
       "      <td>2016</td>\n",
       "      <td>0.787056</td>\n",
       "      <td>7439.919412</td>\n",
       "      <td>4.298757e+11</td>\n",
       "    </tr>\n",
       "    <tr>\n",
       "      <th>15046</th>\n",
       "      <td>Zambia</td>\n",
       "      <td>ZMB</td>\n",
       "      <td>2016</td>\n",
       "      <td>3.794901</td>\n",
       "      <td>1672.345428</td>\n",
       "      <td>2.901824e+10</td>\n",
       "    </tr>\n",
       "    <tr>\n",
       "      <th>15047</th>\n",
       "      <td>Zimbabwe</td>\n",
       "      <td>ZWE</td>\n",
       "      <td>2016</td>\n",
       "      <td>6.159190</td>\n",
       "      <td>1322.344063</td>\n",
       "      <td>1.909335e+10</td>\n",
       "    </tr>\n",
       "  </tbody>\n",
       "</table>\n",
       "<p>264 rows × 6 columns</p>\n",
       "</div>"
      ],
      "text/plain": [
       "            Country Code  Year  GDP-Growth  GDP-Per-Capita           GDP\n",
       "14784         Aruba  ABW  2016         NaN             NaN           NaN\n",
       "14785   Afghanistan  AFG  2016    1.030660      563.825663  2.095875e+10\n",
       "14786        Angola  AGO  2016   -2.133493     3229.619740  9.950382e+10\n",
       "14787       Albania  ALB  2016    4.004413     5075.354985  1.454788e+10\n",
       "14788       Andorra  AND  2016    1.629345    44569.783009  3.432141e+09\n",
       "...             ...  ...   ...         ...             ...           ...\n",
       "15043        Kosovo  XKX  2016    4.145372     4193.631327  7.738508e+09\n",
       "15044   Yemen, Rep.  YEM  2016   -2.701475      667.945437  1.903557e+10\n",
       "15045  South Africa  ZAF  2016    0.787056     7439.919412  4.298757e+11\n",
       "15046        Zambia  ZMB  2016    3.794901     1672.345428  2.901824e+10\n",
       "15047      Zimbabwe  ZWE  2016    6.159190     1322.344063  1.909335e+10\n",
       "\n",
       "[264 rows x 6 columns]"
      ]
     },
     "execution_count": 331,
     "metadata": {},
     "output_type": "execute_result"
    }
   ],
   "source": [
    "gdp_df[(gdp_df[\"Year\"]=='2016') ]"
   ]
  },
  {
   "cell_type": "code",
   "execution_count": 277,
   "metadata": {
    "scrolled": true
   },
   "outputs": [
    {
     "data": {
      "text/html": [
       "<div>\n",
       "<style scoped>\n",
       "    .dataframe tbody tr th:only-of-type {\n",
       "        vertical-align: middle;\n",
       "    }\n",
       "\n",
       "    .dataframe tbody tr th {\n",
       "        vertical-align: top;\n",
       "    }\n",
       "\n",
       "    .dataframe thead th {\n",
       "        text-align: right;\n",
       "    }\n",
       "</style>\n",
       "<table border=\"1\" class=\"dataframe\">\n",
       "  <thead>\n",
       "    <tr style=\"text-align: right;\">\n",
       "      <th></th>\n",
       "      <th>Country</th>\n",
       "      <th>Code</th>\n",
       "      <th>Year</th>\n",
       "      <th>GDP-Growth</th>\n",
       "      <th>GDP-Per-Capita</th>\n",
       "      <th>GDP</th>\n",
       "    </tr>\n",
       "  </thead>\n",
       "  <tbody>\n",
       "  </tbody>\n",
       "</table>\n",
       "</div>"
      ],
      "text/plain": [
       "Empty DataFrame\n",
       "Columns: [Country, Code, Year, GDP-Growth, GDP-Per-Capita, GDP]\n",
       "Index: []"
      ]
     },
     "execution_count": 277,
     "metadata": {},
     "output_type": "execute_result"
    }
   ],
   "source": [
    "gdp_df[(gdp_df[\"Country\"]==row['Country'])  & (gdp_df[\"Year\"]==row['Year']) ]"
   ]
  },
  {
   "cell_type": "code",
   "execution_count": 375,
   "metadata": {
    "scrolled": true
   },
   "outputs": [
    {
     "data": {
      "text/html": [
       "<div>\n",
       "<style scoped>\n",
       "    .dataframe tbody tr th:only-of-type {\n",
       "        vertical-align: middle;\n",
       "    }\n",
       "\n",
       "    .dataframe tbody tr th {\n",
       "        vertical-align: top;\n",
       "    }\n",
       "\n",
       "    .dataframe thead th {\n",
       "        text-align: right;\n",
       "    }\n",
       "</style>\n",
       "<table border=\"1\" class=\"dataframe\">\n",
       "  <thead>\n",
       "    <tr style=\"text-align: right;\">\n",
       "      <th></th>\n",
       "      <th>Unnamed: 0</th>\n",
       "      <th>Unnamed: 0.1</th>\n",
       "      <th>Date</th>\n",
       "      <th>Time</th>\n",
       "      <th>Operator</th>\n",
       "      <th>Flight #</th>\n",
       "      <th>Route</th>\n",
       "      <th>AC Type</th>\n",
       "      <th>Registration</th>\n",
       "      <th>cn/ln</th>\n",
       "      <th>...</th>\n",
       "      <th>Ground</th>\n",
       "      <th>Summary</th>\n",
       "      <th>Location</th>\n",
       "      <th>Latitude</th>\n",
       "      <th>Longitude</th>\n",
       "      <th>geometry</th>\n",
       "      <th>Percent Survived</th>\n",
       "      <th>Country</th>\n",
       "      <th>Year</th>\n",
       "      <th>GDP</th>\n",
       "    </tr>\n",
       "  </thead>\n",
       "  <tbody>\n",
       "  </tbody>\n",
       "</table>\n",
       "<p>0 rows × 26 columns</p>\n",
       "</div>"
      ],
      "text/plain": [
       "Empty DataFrame\n",
       "Columns: [Unnamed: 0, Unnamed: 0.1, Date, Time, Operator, Flight #, Route, AC Type, Registration, cn/ln, Aboard, Aboard Passengers, Aboard Crew, Fatalities, Fatalities Passengers, Fatalities Crew, Ground, Summary, Location, Latitude, Longitude, geometry, Percent Survived, Country, Year, GDP]\n",
       "Index: []\n",
       "\n",
       "[0 rows x 26 columns]"
      ]
     },
     "execution_count": 375,
     "metadata": {},
     "output_type": "execute_result"
    }
   ],
   "source": [
    "for index, row in planecrash_df.iterrows():\n",
    "    #pdb.set_trace()\n",
    "    try:\n",
    "        planecrash_df['GDP'] =gdp_df[(gdp_df[\"Country\"]==row['Country'])  & (gdp_df[\"Year\"]==row['Year']) ]['GDP'].values[0]\n",
    "    except:\n",
    "        planecrash_df['GDP'] = 0\n",
    "        \n",
    "planecrash_df[planecrash_df['GDP'].values != 0]"
   ]
  },
  {
   "cell_type": "code",
   "execution_count": null,
   "metadata": {},
   "outputs": [],
   "source": []
  },
  {
   "cell_type": "code",
   "execution_count": null,
   "metadata": {},
   "outputs": [],
   "source": []
  },
  {
   "cell_type": "code",
   "execution_count": 334,
   "metadata": {},
   "outputs": [
    {
     "name": "stdout",
     "output_type": "stream",
     "text": [
      "/Users/davidcoy/Downloads/My First Project-d821d4ac1a16.json\n"
     ]
    }
   ],
   "source": [
    "import os\n",
    "os.environ[\"GOOGLE_APPLICATION_CREDENTIALS\"]=\"/Users/davidcoy/Downloads/My First Project-d821d4ac1a16.json\"\n",
    "print(os.environ['GOOGLE_APPLICATION_CREDENTIALS']) "
   ]
  },
  {
   "cell_type": "code",
   "execution_count": 335,
   "metadata": {},
   "outputs": [],
   "source": [
    "import bq_helper\n",
    "from bq_helper import BigQueryHelper #https://www.kaggle.com/sohier/introduction-to-the-bq-helper-package"
   ]
  },
  {
   "cell_type": "code",
   "execution_count": 336,
   "metadata": {},
   "outputs": [],
   "source": [
    "#https://www.kaggle.com/jessicali9530/how-to-query-world-development-indicators-data\n",
    "wdi = bq_helper.BigQueryHelper(active_project=\"patents-public-data\",\n",
    "                                   dataset_name=\"worldbank_wdi\")"
   ]
  },
  {
   "cell_type": "code",
   "execution_count": 337,
   "metadata": {},
   "outputs": [
    {
     "data": {
      "text/plain": [
       "['wdi_2016']"
      ]
     },
     "execution_count": 337,
     "metadata": {},
     "output_type": "execute_result"
    }
   ],
   "source": [
    "# View table names under the worldbank_wdi data table\n",
    "bq_assistant = BigQueryHelper(\"patents-public-data\", \"worldbank_wdi\")\n",
    "bq_assistant.list_tables()"
   ]
  },
  {
   "cell_type": "code",
   "execution_count": 344,
   "metadata": {},
   "outputs": [
    {
     "data": {
      "text/html": [
       "<div>\n",
       "<style scoped>\n",
       "    .dataframe tbody tr th:only-of-type {\n",
       "        vertical-align: middle;\n",
       "    }\n",
       "\n",
       "    .dataframe tbody tr th {\n",
       "        vertical-align: top;\n",
       "    }\n",
       "\n",
       "    .dataframe thead th {\n",
       "        text-align: right;\n",
       "    }\n",
       "</style>\n",
       "<table border=\"1\" class=\"dataframe\">\n",
       "  <thead>\n",
       "    <tr style=\"text-align: right;\">\n",
       "      <th></th>\n",
       "      <th>year</th>\n",
       "      <th>country_name</th>\n",
       "      <th>country_code</th>\n",
       "      <th>indicator_name</th>\n",
       "      <th>indicator_code</th>\n",
       "      <th>indicator_value</th>\n",
       "    </tr>\n",
       "  </thead>\n",
       "  <tbody>\n",
       "    <tr>\n",
       "      <th>0</th>\n",
       "      <td>1960</td>\n",
       "      <td>Chad</td>\n",
       "      <td>TCD</td>\n",
       "      <td>Discrepancy in expenditure estimate of GDP (cu...</td>\n",
       "      <td>NY.GDP.DISC.CN</td>\n",
       "      <td>6.990439e+09</td>\n",
       "    </tr>\n",
       "    <tr>\n",
       "      <th>1</th>\n",
       "      <td>1961</td>\n",
       "      <td>Chad</td>\n",
       "      <td>TCD</td>\n",
       "      <td>Death rate, crude (per 1,000 people)</td>\n",
       "      <td>SP.DYN.CDRT.IN</td>\n",
       "      <td>2.624000e+01</td>\n",
       "    </tr>\n",
       "    <tr>\n",
       "      <th>2</th>\n",
       "      <td>1961</td>\n",
       "      <td>Chad</td>\n",
       "      <td>TCD</td>\n",
       "      <td>GNI per capita (constant LCU)</td>\n",
       "      <td>NY.GNP.PCAP.KN</td>\n",
       "      <td>2.846799e+05</td>\n",
       "    </tr>\n",
       "    <tr>\n",
       "      <th>3</th>\n",
       "      <td>1961</td>\n",
       "      <td>Chad</td>\n",
       "      <td>TCD</td>\n",
       "      <td>Merchandise exports to low- and middle-income ...</td>\n",
       "      <td>TX.VAL.MRCH.R4.ZS</td>\n",
       "      <td>9.389671e-01</td>\n",
       "    </tr>\n",
       "    <tr>\n",
       "      <th>4</th>\n",
       "      <td>1961</td>\n",
       "      <td>Chad</td>\n",
       "      <td>TCD</td>\n",
       "      <td>Merchandise imports by the reporting economy, ...</td>\n",
       "      <td>TM.VAL.MRCH.RS.ZS</td>\n",
       "      <td>9.243028e+01</td>\n",
       "    </tr>\n",
       "    <tr>\n",
       "      <th>...</th>\n",
       "      <td>...</td>\n",
       "      <td>...</td>\n",
       "      <td>...</td>\n",
       "      <td>...</td>\n",
       "      <td>...</td>\n",
       "      <td>...</td>\n",
       "    </tr>\n",
       "    <tr>\n",
       "      <th>95</th>\n",
       "      <td>1978</td>\n",
       "      <td>Chad</td>\n",
       "      <td>TCD</td>\n",
       "      <td>PPG, official creditors (AMT, current US$)</td>\n",
       "      <td>DT.AMT.OFFT.CD</td>\n",
       "      <td>1.356000e+06</td>\n",
       "    </tr>\n",
       "    <tr>\n",
       "      <th>96</th>\n",
       "      <td>1979</td>\n",
       "      <td>Chad</td>\n",
       "      <td>TCD</td>\n",
       "      <td>Adjusted net national income per capita (curre...</td>\n",
       "      <td>NY.ADJ.NNTY.PC.CD</td>\n",
       "      <td>2.098689e+02</td>\n",
       "    </tr>\n",
       "    <tr>\n",
       "      <th>97</th>\n",
       "      <td>1979</td>\n",
       "      <td>Chad</td>\n",
       "      <td>TCD</td>\n",
       "      <td>Exports of goods and services (current US$)</td>\n",
       "      <td>NE.EXP.GNFS.CD</td>\n",
       "      <td>1.785534e+08</td>\n",
       "    </tr>\n",
       "    <tr>\n",
       "      <th>98</th>\n",
       "      <td>1979</td>\n",
       "      <td>Chad</td>\n",
       "      <td>TCD</td>\n",
       "      <td>External debt stocks, concessional (DOD, curre...</td>\n",
       "      <td>DT.DOD.ALLC.CD</td>\n",
       "      <td>1.767780e+08</td>\n",
       "    </tr>\n",
       "    <tr>\n",
       "      <th>99</th>\n",
       "      <td>1979</td>\n",
       "      <td>Chad</td>\n",
       "      <td>TCD</td>\n",
       "      <td>PPG, bilateral (DIS, current US$)</td>\n",
       "      <td>DT.DIS.BLAT.CD</td>\n",
       "      <td>3.786000e+06</td>\n",
       "    </tr>\n",
       "  </tbody>\n",
       "</table>\n",
       "<p>100 rows × 6 columns</p>\n",
       "</div>"
      ],
      "text/plain": [
       "    year country_name country_code  \\\n",
       "0   1960         Chad          TCD   \n",
       "1   1961         Chad          TCD   \n",
       "2   1961         Chad          TCD   \n",
       "3   1961         Chad          TCD   \n",
       "4   1961         Chad          TCD   \n",
       "..   ...          ...          ...   \n",
       "95  1978         Chad          TCD   \n",
       "96  1979         Chad          TCD   \n",
       "97  1979         Chad          TCD   \n",
       "98  1979         Chad          TCD   \n",
       "99  1979         Chad          TCD   \n",
       "\n",
       "                                       indicator_name     indicator_code  \\\n",
       "0   Discrepancy in expenditure estimate of GDP (cu...     NY.GDP.DISC.CN   \n",
       "1                Death rate, crude (per 1,000 people)     SP.DYN.CDRT.IN   \n",
       "2                       GNI per capita (constant LCU)     NY.GNP.PCAP.KN   \n",
       "3   Merchandise exports to low- and middle-income ...  TX.VAL.MRCH.R4.ZS   \n",
       "4   Merchandise imports by the reporting economy, ...  TM.VAL.MRCH.RS.ZS   \n",
       "..                                                ...                ...   \n",
       "95         PPG, official creditors (AMT, current US$)     DT.AMT.OFFT.CD   \n",
       "96  Adjusted net national income per capita (curre...  NY.ADJ.NNTY.PC.CD   \n",
       "97        Exports of goods and services (current US$)     NE.EXP.GNFS.CD   \n",
       "98  External debt stocks, concessional (DOD, curre...     DT.DOD.ALLC.CD   \n",
       "99                  PPG, bilateral (DIS, current US$)     DT.DIS.BLAT.CD   \n",
       "\n",
       "    indicator_value  \n",
       "0      6.990439e+09  \n",
       "1      2.624000e+01  \n",
       "2      2.846799e+05  \n",
       "3      9.389671e-01  \n",
       "4      9.243028e+01  \n",
       "..              ...  \n",
       "95     1.356000e+06  \n",
       "96     2.098689e+02  \n",
       "97     1.785534e+08  \n",
       "98     1.767780e+08  \n",
       "99     3.786000e+06  \n",
       "\n",
       "[100 rows x 6 columns]"
      ]
     },
     "execution_count": 344,
     "metadata": {},
     "output_type": "execute_result"
    }
   ],
   "source": [
    "# View the first three rows of the wdi_2016 data table\n",
    "df = bq_assistant.head(\"wdi_2016\", num_rows=100)\n",
    "df"
   ]
  },
  {
   "cell_type": "code",
   "execution_count": null,
   "metadata": {},
   "outputs": [],
   "source": []
  },
  {
   "cell_type": "code",
   "execution_count": null,
   "metadata": {},
   "outputs": [],
   "source": []
  }
 ],
 "metadata": {
  "kernelspec": {
   "display_name": "Python 3",
   "language": "python",
   "name": "python3"
  },
  "language_info": {
   "codemirror_mode": {
    "name": "ipython",
    "version": 3
   },
   "file_extension": ".py",
   "mimetype": "text/x-python",
   "name": "python",
   "nbconvert_exporter": "python",
   "pygments_lexer": "ipython3",
   "version": "3.8.6"
  }
 },
 "nbformat": 4,
 "nbformat_minor": 4
}
